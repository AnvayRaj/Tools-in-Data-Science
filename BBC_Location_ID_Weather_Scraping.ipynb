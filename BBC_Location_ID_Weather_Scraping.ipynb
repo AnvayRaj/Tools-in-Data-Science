{
  "cells": [
    {
      "attachments": {},
      "cell_type": "markdown",
      "metadata": {
        "id": "WsVuzd8zBh1h"
      },
      "source": [
        "# A tool to scrape the location ID of any city in BBC Weather. \n",
        "This code snippet takes city name as input and it hits the BBC Weahter API with a request for location ID. This location ID is used as input in the next part of the code to scrape weather forecast for the city using this location ID.  \n",
        "\n",
        "\n",
        "*Web scraping might not be legal always. It is a good idea to check the terms of the website you plan to scrape before proceeding. Also, if your code requests a url from a server multiple times, it is a good practice to either cache your requests, or insert a timed delay between consecutive requests.*"
      ]
    },
    {
      "cell_type": "code",
      "execution_count": 1,
      "metadata": {
        "id": "FVSmmYGpCBvc"
      },
      "outputs": [],
      "source": [
        "import os\n",
        "\n",
        "import requests               # to get the webpage\n",
        "import json                   # to convert API to json format\n",
        "\n",
        "from urllib.parse import urlencode\n",
        "import numpy as np\n",
        "import pandas as pd\n",
        "import re                     # regular expression operators"
      ]
    },
    {
      "cell_type": "code",
      "execution_count": 2,
      "metadata": {
        "colab": {
          "base_uri": "https://localhost:8080/",
          "height": 52
        },
        "id": "XK0bYqe9DAFs",
        "outputId": "e01abd0b-10d9-4c67-d2de-2dfcc0768543"
      },
      "outputs": [
        {
          "data": {
            "application/vnd.google.colaboratory.intrinsic+json": {
              "type": "string"
            },
            "text/plain": [
              "'https://locator-service.api.bbci.co.uk/locations?api_key=AGbFAKx58hyjQScCXIYrxuEwJh2W2cmv&s=New+York&stack=aws&locale=en&filter=international&place-types=settlement%2Cairport%2Cdistrict&order=importance&a=true&format=json'"
            ]
          },
          "execution_count": 2,
          "metadata": {},
          "output_type": "execute_result"
        }
      ],
      "source": [
        "test_city = \"New York\"\n",
        "location_url = 'https://locator-service.api.bbci.co.uk/locations?' + urlencode({\n",
        "   'api_key': 'AGbFAKx58hyjQScCXIYrxuEwJh2W2cmv',\n",
        "   's': test_city,\n",
        "   'stack': 'aws',\n",
        "   'locale': 'en',\n",
        "   'filter': 'international',\n",
        "   'place-types': 'settlement,airport,district',\n",
        "   'order': 'importance',\n",
        "   'a': 'true',\n",
        "   'format': 'json'\n",
        "})\n",
        "location_url"
      ]
    },
    {
      "cell_type": "code",
      "execution_count": null,
      "metadata": {
        "colab": {
          "base_uri": "https://localhost:8080/"
        },
        "id": "5fXGZdiUDPTs",
        "outputId": "37ee84a1-0f3c-41f6-deef-485ece0f9902"
      },
      "outputs": [
        {
          "data": {
            "text/plain": [
              "{'response': {'results': {'results': [{'container': 'United States',\n",
              "     'containerId': 6252001,\n",
              "     'country': 'US',\n",
              "     'id': '5128581',\n",
              "     'language': 'en',\n",
              "     'latitude': 40.71427,\n",
              "     'longitude': -74.00597,\n",
              "     'name': 'New York',\n",
              "     'placeType': 'settlement',\n",
              "     'timezone': 'America/New_York'},\n",
              "    {'container': 'Lincolnshire',\n",
              "     'containerId': 2644486,\n",
              "     'country': 'GB',\n",
              "     'id': '2641508',\n",
              "     'language': 'en',\n",
              "     'latitude': 53.07897,\n",
              "     'longitude': -0.14008,\n",
              "     'name': 'New York',\n",
              "     'placeType': 'settlement',\n",
              "     'timezone': 'Europe/London',\n",
              "     'topicId': 'cr0mejz7n26t'}],\n",
              "   'totalResults': 2}}}"
            ]
          },
          "execution_count": 10,
          "metadata": {},
          "output_type": "execute_result"
        }
      ],
      "source": [
        "result = requests.get(location_url).json()\n",
        "result"
      ]
    },
    {
      "cell_type": "code",
      "execution_count": null,
      "metadata": {
        "colab": {
          "base_uri": "https://localhost:8080/",
          "height": 36
        },
        "id": "rXM4oYcwDgzC",
        "outputId": "0a5bf472-2822-4165-fc17-5394899556b3"
      },
      "outputs": [
        {
          "data": {
            "application/vnd.google.colaboratory.intrinsic+json": {
              "type": "string"
            },
            "text/plain": [
              "'5128581'"
            ]
          },
          "execution_count": 4,
          "metadata": {},
          "output_type": "execute_result"
        }
      ],
      "source": [
        "# Print location id\n",
        "result['response']['results']['results'][0]['id']"
      ]
    },
    {
      "cell_type": "markdown",
      "metadata": {
        "id": "z7-r0mgnDrS2"
      },
      "source": [
        "# Creating a function to output location id by taking any city name as input."
      ]
    },
    {
      "cell_type": "code",
      "execution_count": null,
      "metadata": {
        "id": "JvWzOsPVBhmX"
      },
      "outputs": [],
      "source": [
        "def getlocid(city):\n",
        "    city = city.lower() # convert city name to lowercase to standardize format\n",
        "    # Convert into an API call using URL encoding\n",
        "    location_url = 'https://locator-service.api.bbci.co.uk/locations?' + urlencode({\n",
        "      'api_key': 'AGbFAKx58hyjQScCXIYrxuEwJh2W2cmv',\n",
        "      's': city,\n",
        "      'stack': 'aws',\n",
        "      'locale': 'en',\n",
        "      'filter': 'international',\n",
        "      'place-types': 'settlement,airport,district',\n",
        "      'order': 'importance',\n",
        "      'a': 'true',\n",
        "      'format': 'json'\n",
        "    })\n",
        "    result = requests.get(location_url).json()\n",
        "    locid = result['response']['results']['results'][0]['id']\n",
        "    return locid"
      ]
    },
    {
      "cell_type": "code",
      "execution_count": null,
      "metadata": {
        "colab": {
          "base_uri": "https://localhost:8080/",
          "height": 35
        },
        "id": "KEiuQasXBhal",
        "outputId": "c97749ff-5acf-45f8-d04e-2b0c957a27ef"
      },
      "outputs": [
        {
          "data": {
            "application/vnd.google.colaboratory.intrinsic+json": {
              "type": "string"
            },
            "text/plain": [
              "'6167865'"
            ]
          },
          "execution_count": 31,
          "metadata": {},
          "output_type": "execute_result"
        }
      ],
      "source": [
        "getlocid('Toronto')"
      ]
    },
    {
      "cell_type": "code",
      "execution_count": null,
      "metadata": {
        "id": "deuhR31JleOH"
      },
      "outputs": [],
      "source": []
    }
  ],
  "metadata": {
    "colab": {
      "provenance": []
    },
    "kernelspec": {
      "display_name": "Python 3",
      "language": "python",
      "name": "python3"
    },
    "language_info": {
      "codemirror_mode": {
        "name": "ipython",
        "version": 3
      },
      "file_extension": ".py",
      "mimetype": "text/x-python",
      "name": "python",
      "nbconvert_exporter": "python",
      "pygments_lexer": "ipython3",
      "version": "3.8.5"
    }
  },
  "nbformat": 4,
  "nbformat_minor": 0
}
