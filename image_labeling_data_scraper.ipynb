{
  "nbformat": 4,
  "nbformat_minor": 0,
  "metadata": {
    "colab": {
      "provenance": []
    },
    "kernelspec": {
      "name": "python3",
      "display_name": "Python 3"
    },
    "language_info": {
      "name": "python"
    }
  },
  "cells": [
    {
      "cell_type": "code",
      "metadata": {
        "id": "oiIXDcZmNUlQ"
      },
      "source": [
        "import requests\n",
        "from bs4 import BeautifulSoup\n",
        "import re\n",
        "from PIL import Image\n",
        "from io import BytesIO\n",
        "import base64\n",
        "\n",
        "\n",
        "headers = {\n",
        "    \"User-Agent\":\n",
        "    \"Mozilla/5.0 (Windows NT 10.0;p Win64; x64) AppleWebKit/537.36 (KHTML, like Gecko) Chrome/70.0.3538.102 Safari/537.36 Edge/18.19582\"\n",
        "}\n",
        "\n",
        "params = {\n",
        "    \"q\": \"tulip\",\n",
        "    \"sourceid\": \"chrome\",\n",
        "}\n",
        "query_term = params['q']\n",
        "html = requests.get(\"https://www.google.com/search\", params=params, headers=headers)\n",
        "soup = BeautifulSoup(html.text, 'lxml')\n",
        "\n",
        "for result in soup.find_all('div',attrs={'jsname':'dtDiAc'}):\n",
        "    link = f\"https://www.google.com{result.a['href']}\"\n",
        "    being_used_on = result['data-lpage']\n",
        "    print(f'Link: {link}\\nBeing used on: {being_used_on}\\n')\n",
        "\n",
        "# finding all script (<script>) tags\n",
        "script_img_tags = soup.find_all('script')\n",
        "\n",
        "# https://regex101.com/r/L3IZXe/4\n",
        "img_matches = re.findall(r\"s='data:image/jpeg;base64,(.*?)';\", str(script_img_tags))\n",
        "\n",
        "for index, image in enumerate(img_matches):\n",
        "    try:\n",
        "        # https://stackoverflow.com/a/6966225/15164646\n",
        "   # base64.b64encode(\"password\".encode(\"utf-8\")    \n",
        "      final_image = Image.open(BytesIO(base64.b64decode(str(image).encode('utf-8'))))\n",
        "\n",
        "        # https://www.educative.io/edpresso/absolute-vs-relative-path\n",
        "        # https://stackoverflow.com/a/31434485/15164646\n",
        "      final_image.save(f'{query_term}_{index}.jpg', 'JPEG')\n",
        "    except:\n",
        "      pass"
      ],
      "execution_count": null,
      "outputs": []
    },
    {
      "cell_type": "code",
      "source": [],
      "metadata": {
        "id": "rko07A9pbHAe"
      },
      "execution_count": null,
      "outputs": []
    },
    {
      "cell_type": "code",
      "metadata": {
        "id": "-IyQSuvbN3A9",
        "colab": {
          "base_uri": "https://localhost:8080/"
        },
        "outputId": "7f3fcf14-a725-4ac7-f955-b0f5926d62d8"
      },
      "source": [
        "soup.find_all('div',attrs={'jsname':'dtDiAc'})"
      ],
      "execution_count": null,
      "outputs": [
        {
          "output_type": "execute_result",
          "data": {
            "text/plain": [
              "[]"
            ]
          },
          "metadata": {},
          "execution_count": 47
        }
      ]
    }
  ]
}