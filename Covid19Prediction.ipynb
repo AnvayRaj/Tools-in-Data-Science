{
  "cells": [
    {
      "cell_type": "markdown",
      "source": [
        "#Predict value of currency \"GBP\" from currency\"BRL\" where the \"BRL\" value is the average value of the currency \"BRL\"#\n"
      ],
      "metadata": {
        "id": "0XJLbh-WTAmt"
      }
    },
    {
      "cell_type": "code",
      "execution_count": 33,
      "metadata": {
        "id": "OnLTSu0GHiAq"
      },
      "outputs": [],
      "source": [
        "import pandas as pd\n",
        "import numpy as np\n",
        "from matplotlib import pyplot as plt\n",
        "from sklearn.metrics import mean_absolute_error\n",
        "from pandas.plotting import autocorrelation_plot\n",
        "from statsmodels.tsa.arima.model import ARIMA"
      ]
    },
    {
      "cell_type": "code",
      "execution_count": 19,
      "metadata": {
        "id": "q7dA_DmuOuRA",
        "colab": {
          "base_uri": "https://localhost:8080/",
          "height": 287
        },
        "outputId": "6d7473f4-bcf5-4261-d780-febed37887b1"
      },
      "outputs": [
        {
          "output_type": "execute_result",
          "data": {
            "text/plain": [
              "  iso_code location       date  new_deaths  new_cases  new_tests  \\\n",
              "0      IND    India  1/16/2021         181      15144     803090   \n",
              "1      IND    India  1/17/2021         145      13788     779377   \n",
              "2      IND    India  1/18/2021         137      10050     548168   \n",
              "3      IND    India  1/19/2021         162      13816     709791   \n",
              "4      IND    India  1/20/2021         151      15244     764120   \n",
              "\n",
              "   new_vaccinations  new_cases_per_thousand  new_tests_per-thousand  \\\n",
              "0            191181                  15.144                 803.090   \n",
              "1             33120                  13.788                 779.377   \n",
              "2            229748                  10.050                 548.168   \n",
              "3            220786                  13.816                 709.791   \n",
              "4            131649                  15.244                 764.120   \n",
              "\n",
              "   new_vaccinations_per_thousand  stringency_index  \n",
              "0                        191.181             68.98  \n",
              "1                         33.120             68.98  \n",
              "2                        229.748             68.98  \n",
              "3                        220.786             68.98  \n",
              "4                        131.649             68.98  "
            ],
            "text/html": [
              "\n",
              "  <div id=\"df-70a7d2d7-adc5-41df-83bb-a477c3d9cc85\">\n",
              "    <div class=\"colab-df-container\">\n",
              "      <div>\n",
              "<style scoped>\n",
              "    .dataframe tbody tr th:only-of-type {\n",
              "        vertical-align: middle;\n",
              "    }\n",
              "\n",
              "    .dataframe tbody tr th {\n",
              "        vertical-align: top;\n",
              "    }\n",
              "\n",
              "    .dataframe thead th {\n",
              "        text-align: right;\n",
              "    }\n",
              "</style>\n",
              "<table border=\"1\" class=\"dataframe\">\n",
              "  <thead>\n",
              "    <tr style=\"text-align: right;\">\n",
              "      <th></th>\n",
              "      <th>iso_code</th>\n",
              "      <th>location</th>\n",
              "      <th>date</th>\n",
              "      <th>new_deaths</th>\n",
              "      <th>new_cases</th>\n",
              "      <th>new_tests</th>\n",
              "      <th>new_vaccinations</th>\n",
              "      <th>new_cases_per_thousand</th>\n",
              "      <th>new_tests_per-thousand</th>\n",
              "      <th>new_vaccinations_per_thousand</th>\n",
              "      <th>stringency_index</th>\n",
              "    </tr>\n",
              "  </thead>\n",
              "  <tbody>\n",
              "    <tr>\n",
              "      <th>0</th>\n",
              "      <td>IND</td>\n",
              "      <td>India</td>\n",
              "      <td>1/16/2021</td>\n",
              "      <td>181</td>\n",
              "      <td>15144</td>\n",
              "      <td>803090</td>\n",
              "      <td>191181</td>\n",
              "      <td>15.144</td>\n",
              "      <td>803.090</td>\n",
              "      <td>191.181</td>\n",
              "      <td>68.98</td>\n",
              "    </tr>\n",
              "    <tr>\n",
              "      <th>1</th>\n",
              "      <td>IND</td>\n",
              "      <td>India</td>\n",
              "      <td>1/17/2021</td>\n",
              "      <td>145</td>\n",
              "      <td>13788</td>\n",
              "      <td>779377</td>\n",
              "      <td>33120</td>\n",
              "      <td>13.788</td>\n",
              "      <td>779.377</td>\n",
              "      <td>33.120</td>\n",
              "      <td>68.98</td>\n",
              "    </tr>\n",
              "    <tr>\n",
              "      <th>2</th>\n",
              "      <td>IND</td>\n",
              "      <td>India</td>\n",
              "      <td>1/18/2021</td>\n",
              "      <td>137</td>\n",
              "      <td>10050</td>\n",
              "      <td>548168</td>\n",
              "      <td>229748</td>\n",
              "      <td>10.050</td>\n",
              "      <td>548.168</td>\n",
              "      <td>229.748</td>\n",
              "      <td>68.98</td>\n",
              "    </tr>\n",
              "    <tr>\n",
              "      <th>3</th>\n",
              "      <td>IND</td>\n",
              "      <td>India</td>\n",
              "      <td>1/19/2021</td>\n",
              "      <td>162</td>\n",
              "      <td>13816</td>\n",
              "      <td>709791</td>\n",
              "      <td>220786</td>\n",
              "      <td>13.816</td>\n",
              "      <td>709.791</td>\n",
              "      <td>220.786</td>\n",
              "      <td>68.98</td>\n",
              "    </tr>\n",
              "    <tr>\n",
              "      <th>4</th>\n",
              "      <td>IND</td>\n",
              "      <td>India</td>\n",
              "      <td>1/20/2021</td>\n",
              "      <td>151</td>\n",
              "      <td>15244</td>\n",
              "      <td>764120</td>\n",
              "      <td>131649</td>\n",
              "      <td>15.244</td>\n",
              "      <td>764.120</td>\n",
              "      <td>131.649</td>\n",
              "      <td>68.98</td>\n",
              "    </tr>\n",
              "  </tbody>\n",
              "</table>\n",
              "</div>\n",
              "      <button class=\"colab-df-convert\" onclick=\"convertToInteractive('df-70a7d2d7-adc5-41df-83bb-a477c3d9cc85')\"\n",
              "              title=\"Convert this dataframe to an interactive table.\"\n",
              "              style=\"display:none;\">\n",
              "        \n",
              "  <svg xmlns=\"http://www.w3.org/2000/svg\" height=\"24px\"viewBox=\"0 0 24 24\"\n",
              "       width=\"24px\">\n",
              "    <path d=\"M0 0h24v24H0V0z\" fill=\"none\"/>\n",
              "    <path d=\"M18.56 5.44l.94 2.06.94-2.06 2.06-.94-2.06-.94-.94-2.06-.94 2.06-2.06.94zm-11 1L8.5 8.5l.94-2.06 2.06-.94-2.06-.94L8.5 2.5l-.94 2.06-2.06.94zm10 10l.94 2.06.94-2.06 2.06-.94-2.06-.94-.94-2.06-.94 2.06-2.06.94z\"/><path d=\"M17.41 7.96l-1.37-1.37c-.4-.4-.92-.59-1.43-.59-.52 0-1.04.2-1.43.59L10.3 9.45l-7.72 7.72c-.78.78-.78 2.05 0 2.83L4 21.41c.39.39.9.59 1.41.59.51 0 1.02-.2 1.41-.59l7.78-7.78 2.81-2.81c.8-.78.8-2.07 0-2.86zM5.41 20L4 18.59l7.72-7.72 1.47 1.35L5.41 20z\"/>\n",
              "  </svg>\n",
              "      </button>\n",
              "      \n",
              "  <style>\n",
              "    .colab-df-container {\n",
              "      display:flex;\n",
              "      flex-wrap:wrap;\n",
              "      gap: 12px;\n",
              "    }\n",
              "\n",
              "    .colab-df-convert {\n",
              "      background-color: #E8F0FE;\n",
              "      border: none;\n",
              "      border-radius: 50%;\n",
              "      cursor: pointer;\n",
              "      display: none;\n",
              "      fill: #1967D2;\n",
              "      height: 32px;\n",
              "      padding: 0 0 0 0;\n",
              "      width: 32px;\n",
              "    }\n",
              "\n",
              "    .colab-df-convert:hover {\n",
              "      background-color: #E2EBFA;\n",
              "      box-shadow: 0px 1px 2px rgba(60, 64, 67, 0.3), 0px 1px 3px 1px rgba(60, 64, 67, 0.15);\n",
              "      fill: #174EA6;\n",
              "    }\n",
              "\n",
              "    [theme=dark] .colab-df-convert {\n",
              "      background-color: #3B4455;\n",
              "      fill: #D2E3FC;\n",
              "    }\n",
              "\n",
              "    [theme=dark] .colab-df-convert:hover {\n",
              "      background-color: #434B5C;\n",
              "      box-shadow: 0px 1px 3px 1px rgba(0, 0, 0, 0.15);\n",
              "      filter: drop-shadow(0px 1px 2px rgba(0, 0, 0, 0.3));\n",
              "      fill: #FFFFFF;\n",
              "    }\n",
              "  </style>\n",
              "\n",
              "      <script>\n",
              "        const buttonEl =\n",
              "          document.querySelector('#df-70a7d2d7-adc5-41df-83bb-a477c3d9cc85 button.colab-df-convert');\n",
              "        buttonEl.style.display =\n",
              "          google.colab.kernel.accessAllowed ? 'block' : 'none';\n",
              "\n",
              "        async function convertToInteractive(key) {\n",
              "          const element = document.querySelector('#df-70a7d2d7-adc5-41df-83bb-a477c3d9cc85');\n",
              "          const dataTable =\n",
              "            await google.colab.kernel.invokeFunction('convertToInteractive',\n",
              "                                                     [key], {});\n",
              "          if (!dataTable) return;\n",
              "\n",
              "          const docLinkHtml = 'Like what you see? Visit the ' +\n",
              "            '<a target=\"_blank\" href=https://colab.research.google.com/notebooks/data_table.ipynb>data table notebook</a>'\n",
              "            + ' to learn more about interactive tables.';\n",
              "          element.innerHTML = '';\n",
              "          dataTable['output_type'] = 'display_data';\n",
              "          await google.colab.output.renderOutput(dataTable, element);\n",
              "          const docLink = document.createElement('div');\n",
              "          docLink.innerHTML = docLinkHtml;\n",
              "          element.appendChild(docLink);\n",
              "        }\n",
              "      </script>\n",
              "    </div>\n",
              "  </div>\n",
              "  "
            ]
          },
          "metadata": {},
          "execution_count": 19
        }
      ],
      "source": [
        "data = pd.read_csv('https://drive.google.com/uc?id=1PzAcx0rnsAs96qnAdH9is8JMF9WUHj_W')\n",
        "data.head()"
      ]
    },
    {
      "cell_type": "code",
      "source": [
        "data['location'].unique()"
      ],
      "metadata": {
        "colab": {
          "base_uri": "https://localhost:8080/"
        },
        "id": "9_rW_p5S-Cka",
        "outputId": "52422c55-6b96-49c0-addf-b9fb0ae6a44b"
      },
      "execution_count": 20,
      "outputs": [
        {
          "output_type": "execute_result",
          "data": {
            "text/plain": [
              "array(['India', 'Israel', 'Japan'], dtype=object)"
            ]
          },
          "metadata": {},
          "execution_count": 20
        }
      ]
    },
    {
      "cell_type": "code",
      "execution_count": 21,
      "metadata": {
        "id": "v3alsBQxhKrP"
      },
      "outputs": [],
      "source": [
        "country = \"India\"\n",
        "data = data[data['location']==country]"
      ]
    },
    {
      "cell_type": "code",
      "execution_count": 23,
      "metadata": {
        "id": "rhE-YoocPXwW",
        "colab": {
          "base_uri": "https://localhost:8080/"
        },
        "outputId": "26804c30-7e23-4afb-cb92-0b33bc60246b"
      },
      "outputs": [
        {
          "output_type": "execute_result",
          "data": {
            "text/plain": [
              "(Timestamp('2021-01-16 00:00:00'), Timestamp('2021-07-05 00:00:00'))"
            ]
          },
          "metadata": {},
          "execution_count": 23
        }
      ],
      "source": [
        "data['date'] = pd.to_datetime(data['date'])\n",
        "data.sort_values('date',ascending=True,inplace=True)\n",
        "data['date'].min(), data['date'].max()"
      ]
    },
    {
      "cell_type": "code",
      "execution_count": 24,
      "metadata": {
        "id": "Gc47TO_nPXt2",
        "outputId": "a0d51639-14f1-4667-e75e-fbc626e0d178",
        "colab": {
          "base_uri": "https://localhost:8080/",
          "height": 296
        }
      },
      "outputs": [
        {
          "output_type": "execute_result",
          "data": {
            "text/plain": [
              "[<matplotlib.lines.Line2D at 0x7f3ddfcbe5e0>]"
            ]
          },
          "metadata": {},
          "execution_count": 24
        },
        {
          "output_type": "display_data",
          "data": {
            "text/plain": [
              "<Figure size 432x288 with 1 Axes>"
            ],
            "image/png": "[encoded data removed]"
          },
          "metadata": {
            "needs_background": "light"
          }
        }
      ],
      "source": [
        "plt.xlabel('Date')\n",
        "plt.ylabel('New death')\n",
        "plt.plot(data['date'],data['new_deaths'])"
      ]
    },
    {
      "cell_type": "code",
      "execution_count": 25,
      "metadata": {
        "id": "m-P9wtgoTXLU",
        "colab": {
          "base_uri": "https://localhost:8080/",
          "height": 281
        },
        "outputId": "5b311153-c133-4767-96fb-ee431bb7129d"
      },
      "outputs": [
        {
          "output_type": "display_data",
          "data": {
            "text/plain": [
              "<Figure size 432x288 with 1 Axes>"
            ],
            "image/png": "[encoded data removed]"
          },
          "metadata": {
            "needs_background": "light"
          }
        }
      ],
      "source": [
        "rolling_mean5 = data['new_deaths'].rolling(window = 5).mean()\n",
        "rolling_mean10 = data['new_deaths'].rolling(window = 10).mean()\n",
        "rolling_mean15 = data['new_deaths'].rolling(window = 15).mean()\n",
        "rolling_mean20 = data['new_deaths'].rolling(window = 20).mean()\n",
        "\n",
        "plt.plot(data['date'],data['new_deaths'], color = 'blue', label = 'Original')\n",
        "\n",
        "plt.plot(data['date'],rolling_mean5, color = 'red', label = 'Rolling 5 day mean')\n",
        "plt.plot(data['date'],rolling_mean10, color = 'black', label = 'Rolling 10 day mean')\n",
        "plt.plot(data['date'],rolling_mean15, color = 'orange', label = 'Rolling 15 day mean')\n",
        "plt.plot(data['date'],rolling_mean20, color = 'green', label = 'Rolling 20 day mean')\n",
        "\n",
        "plt.legend(loc = 'best')\n",
        "plt.title('Moving Average')\n",
        "\n",
        "plt.show()"
      ]
    },
    {
      "cell_type": "code",
      "execution_count": 27,
      "metadata": {
        "id": "dcJArnSwTXJK",
        "colab": {
          "base_uri": "https://localhost:8080/",
          "height": 374
        },
        "outputId": "e3ea1121-116c-4119-b7e1-33f7d8436cf9"
      },
      "outputs": [
        {
          "output_type": "execute_result",
          "data": {
            "text/plain": [
              "  iso_code location       date  new_deaths  new_cases  new_tests  \\\n",
              "0      IND    India 2021-01-16         181      15144     803090   \n",
              "1      IND    India 2021-01-17         145      13788     779377   \n",
              "2      IND    India 2021-01-18         137      10050     548168   \n",
              "3      IND    India 2021-01-19         162      13816     709791   \n",
              "4      IND    India 2021-01-20         151      15244     764120   \n",
              "\n",
              "   new_vaccinations  new_cases_per_thousand  new_tests_per-thousand  \\\n",
              "0            191181                  15.144                 803.090   \n",
              "1             33120                  13.788                 779.377   \n",
              "2            229748                  10.050                 548.168   \n",
              "3            220786                  13.816                 709.791   \n",
              "4            131649                  15.244                 764.120   \n",
              "\n",
              "   new_vaccinations_per_thousand  stringency_index  moving_avg_5day  \\\n",
              "0                        191.181             68.98              NaN   \n",
              "1                         33.120             68.98              NaN   \n",
              "2                        229.748             68.98              NaN   \n",
              "3                        220.786             68.98              NaN   \n",
              "4                        131.649             68.98            155.2   \n",
              "\n",
              "   moving_avg_10day  moving_avg_15day  moving_avg_20day  \n",
              "0               NaN               NaN               NaN  \n",
              "1               NaN               NaN               NaN  \n",
              "2               NaN               NaN               NaN  \n",
              "3               NaN               NaN               NaN  \n",
              "4               NaN               NaN               NaN  "
            ],
            "text/html": [
              "\n",
              "  <div id=\"df-99c2ce99-b841-465f-a7fa-dbea23b4b22f\">\n",
              "    <div class=\"colab-df-container\">\n",
              "      <div>\n",
              "<style scoped>\n",
              "    .dataframe tbody tr th:only-of-type {\n",
              "        vertical-align: middle;\n",
              "    }\n",
              "\n",
              "    .dataframe tbody tr th {\n",
              "        vertical-align: top;\n",
              "    }\n",
              "\n",
              "    .dataframe thead th {\n",
              "        text-align: right;\n",
              "    }\n",
              "</style>\n",
              "<table border=\"1\" class=\"dataframe\">\n",
              "  <thead>\n",
              "    <tr style=\"text-align: right;\">\n",
              "      <th></th>\n",
              "      <th>iso_code</th>\n",
              "      <th>location</th>\n",
              "      <th>date</th>\n",
              "      <th>new_deaths</th>\n",
              "      <th>new_cases</th>\n",
              "      <th>new_tests</th>\n",
              "      <th>new_vaccinations</th>\n",
              "      <th>new_cases_per_thousand</th>\n",
              "      <th>new_tests_per-thousand</th>\n",
              "      <th>new_vaccinations_per_thousand</th>\n",
              "      <th>stringency_index</th>\n",
              "      <th>moving_avg_5day</th>\n",
              "      <th>moving_avg_10day</th>\n",
              "      <th>moving_avg_15day</th>\n",
              "      <th>moving_avg_20day</th>\n",
              "    </tr>\n",
              "  </thead>\n",
              "  <tbody>\n",
              "    <tr>\n",
              "      <th>0</th>\n",
              "      <td>IND</td>\n",
              "      <td>India</td>\n",
              "      <td>2021-01-16</td>\n",
              "      <td>181</td>\n",
              "      <td>15144</td>\n",
              "      <td>803090</td>\n",
              "      <td>191181</td>\n",
              "      <td>15.144</td>\n",
              "      <td>803.090</td>\n",
              "      <td>191.181</td>\n",
              "      <td>68.98</td>\n",
              "      <td>NaN</td>\n",
              "      <td>NaN</td>\n",
              "      <td>NaN</td>\n",
              "      <td>NaN</td>\n",
              "    </tr>\n",
              "    <tr>\n",
              "      <th>1</th>\n",
              "      <td>IND</td>\n",
              "      <td>India</td>\n",
              "      <td>2021-01-17</td>\n",
              "      <td>145</td>\n",
              "      <td>13788</td>\n",
              "      <td>779377</td>\n",
              "      <td>33120</td>\n",
              "      <td>13.788</td>\n",
              "      <td>779.377</td>\n",
              "      <td>33.120</td>\n",
              "      <td>68.98</td>\n",
              "      <td>NaN</td>\n",
              "      <td>NaN</td>\n",
              "      <td>NaN</td>\n",
              "      <td>NaN</td>\n",
              "    </tr>\n",
              "    <tr>\n",
              "      <th>2</th>\n",
              "      <td>IND</td>\n",
              "      <td>India</td>\n",
              "      <td>2021-01-18</td>\n",
              "      <td>137</td>\n",
              "      <td>10050</td>\n",
              "      <td>548168</td>\n",
              "      <td>229748</td>\n",
              "      <td>10.050</td>\n",
              "      <td>548.168</td>\n",
              "      <td>229.748</td>\n",
              "      <td>68.98</td>\n",
              "      <td>NaN</td>\n",
              "      <td>NaN</td>\n",
              "      <td>NaN</td>\n",
              "      <td>NaN</td>\n",
              "    </tr>\n",
              "    <tr>\n",
              "      <th>3</th>\n",
              "      <td>IND</td>\n",
              "      <td>India</td>\n",
              "      <td>2021-01-19</td>\n",
              "      <td>162</td>\n",
              "      <td>13816</td>\n",
              "      <td>709791</td>\n",
              "      <td>220786</td>\n",
              "      <td>13.816</td>\n",
              "      <td>709.791</td>\n",
              "      <td>220.786</td>\n",
              "      <td>68.98</td>\n",
              "      <td>NaN</td>\n",
              "      <td>NaN</td>\n",
              "      <td>NaN</td>\n",
              "      <td>NaN</td>\n",
              "    </tr>\n",
              "    <tr>\n",
              "      <th>4</th>\n",
              "      <td>IND</td>\n",
              "      <td>India</td>\n",
              "      <td>2021-01-20</td>\n",
              "      <td>151</td>\n",
              "      <td>15244</td>\n",
              "      <td>764120</td>\n",
              "      <td>131649</td>\n",
              "      <td>15.244</td>\n",
              "      <td>764.120</td>\n",
              "      <td>131.649</td>\n",
              "      <td>68.98</td>\n",
              "      <td>155.2</td>\n",
              "      <td>NaN</td>\n",
              "      <td>NaN</td>\n",
              "      <td>NaN</td>\n",
              "    </tr>\n",
              "  </tbody>\n",
              "</table>\n",
              "</div>\n",
              "      <button class=\"colab-df-convert\" onclick=\"convertToInteractive('df-99c2ce99-b841-465f-a7fa-dbea23b4b22f')\"\n",
              "              title=\"Convert this dataframe to an interactive table.\"\n",
              "              style=\"display:none;\">\n",
              "        \n",
              "  <svg xmlns=\"http://www.w3.org/2000/svg\" height=\"24px\"viewBox=\"0 0 24 24\"\n",
              "       width=\"24px\">\n",
              "    <path d=\"M0 0h24v24H0V0z\" fill=\"none\"/>\n",
              "    <path d=\"M18.56 5.44l.94 2.06.94-2.06 2.06-.94-2.06-.94-.94-2.06-.94 2.06-2.06.94zm-11 1L8.5 8.5l.94-2.06 2.06-.94-2.06-.94L8.5 2.5l-.94 2.06-2.06.94zm10 10l.94 2.06.94-2.06 2.06-.94-2.06-.94-.94-2.06-.94 2.06-2.06.94z\"/><path d=\"M17.41 7.96l-1.37-1.37c-.4-.4-.92-.59-1.43-.59-.52 0-1.04.2-1.43.59L10.3 9.45l-7.72 7.72c-.78.78-.78 2.05 0 2.83L4 21.41c.39.39.9.59 1.41.59.51 0 1.02-.2 1.41-.59l7.78-7.78 2.81-2.81c.8-.78.8-2.07 0-2.86zM5.41 20L4 18.59l7.72-7.72 1.47 1.35L5.41 20z\"/>\n",
              "  </svg>\n",
              "      </button>\n",
              "      \n",
              "  <style>\n",
              "    .colab-df-container {\n",
              "      display:flex;\n",
              "      flex-wrap:wrap;\n",
              "      gap: 12px;\n",
              "    }\n",
              "\n",
              "    .colab-df-convert {\n",
              "      background-color: #E8F0FE;\n",
              "      border: none;\n",
              "      border-radius: 50%;\n",
              "      cursor: pointer;\n",
              "      display: none;\n",
              "      fill: #1967D2;\n",
              "      height: 32px;\n",
              "      padding: 0 0 0 0;\n",
              "      width: 32px;\n",
              "    }\n",
              "\n",
              "    .colab-df-convert:hover {\n",
              "      background-color: #E2EBFA;\n",
              "      box-shadow: 0px 1px 2px rgba(60, 64, 67, 0.3), 0px 1px 3px 1px rgba(60, 64, 67, 0.15);\n",
              "      fill: #174EA6;\n",
              "    }\n",
              "\n",
              "    [theme=dark] .colab-df-convert {\n",
              "      background-color: #3B4455;\n",
              "      fill: #D2E3FC;\n",
              "    }\n",
              "\n",
              "    [theme=dark] .colab-df-convert:hover {\n",
              "      background-color: #434B5C;\n",
              "      box-shadow: 0px 1px 3px 1px rgba(0, 0, 0, 0.15);\n",
              "      filter: drop-shadow(0px 1px 2px rgba(0, 0, 0, 0.3));\n",
              "      fill: #FFFFFF;\n",
              "    }\n",
              "  </style>\n",
              "\n",
              "      <script>\n",
              "        const buttonEl =\n",
              "          document.querySelector('#df-99c2ce99-b841-465f-a7fa-dbea23b4b22f button.colab-df-convert');\n",
              "        buttonEl.style.display =\n",
              "          google.colab.kernel.accessAllowed ? 'block' : 'none';\n",
              "\n",
              "        async function convertToInteractive(key) {\n",
              "          const element = document.querySelector('#df-99c2ce99-b841-465f-a7fa-dbea23b4b22f');\n",
              "          const dataTable =\n",
              "            await google.colab.kernel.invokeFunction('convertToInteractive',\n",
              "                                                     [key], {});\n",
              "          if (!dataTable) return;\n",
              "\n",
              "          const docLinkHtml = 'Like what you see? Visit the ' +\n",
              "            '<a target=\"_blank\" href=https://colab.research.google.com/notebooks/data_table.ipynb>data table notebook</a>'\n",
              "            + ' to learn more about interactive tables.';\n",
              "          element.innerHTML = '';\n",
              "          dataTable['output_type'] = 'display_data';\n",
              "          await google.colab.output.renderOutput(dataTable, element);\n",
              "          const docLink = document.createElement('div');\n",
              "          docLink.innerHTML = docLinkHtml;\n",
              "          element.appendChild(docLink);\n",
              "        }\n",
              "      </script>\n",
              "    </div>\n",
              "  </div>\n",
              "  "
            ]
          },
          "metadata": {},
          "execution_count": 27
        }
      ],
      "source": [
        "data['moving_avg_5day'] = rolling_mean5\n",
        "data['moving_avg_10day'] = rolling_mean10\n",
        "data['moving_avg_15day'] = rolling_mean15\n",
        "data['moving_avg_20day'] = rolling_mean20\n",
        "data.head()"
      ]
    },
    {
      "cell_type": "code",
      "execution_count": 28,
      "metadata": {
        "id": "gnVuVS8bWg4F"
      },
      "outputs": [],
      "source": [
        "data.dropna(inplace=True)"
      ]
    },
    {
      "cell_type": "code",
      "execution_count": 29,
      "metadata": {
        "id": "a8uEGDuLXVef",
        "colab": {
          "base_uri": "https://localhost:8080/",
          "height": 283
        },
        "outputId": "d81f98a5-77c9-48e6-b9c1-27f5befbc3f5"
      },
      "outputs": [
        {
          "output_type": "display_data",
          "data": {
            "text/plain": [
              "<Figure size 432x288 with 1 Axes>"
            ],
            "image/png": "[encoded data removed]"
          },
          "metadata": {
            "needs_background": "light"
          }
        }
      ],
      "source": [
        "autocorrelation_plot(data['new_cases'])\n",
        "plt.show()"
      ]
    },
    {
      "cell_type": "code",
      "execution_count": 34,
      "metadata": {
        "id": "t7owWq3hbJTd",
        "colab": {
          "base_uri": "https://localhost:8080/",
          "height": 554
        },
        "outputId": "63f01241-8c69-4cd8-d720-e3706a59798f"
      },
      "outputs": [
        {
          "output_type": "stream",
          "name": "stderr",
          "text": [
            "/usr/local/lib/python3.8/dist-packages/statsmodels/graphics/tsaplots.py:348: FutureWarning: The default method 'yw' can produce PACF values outside of the [-1,1] interval. After 0.13, the default will change tounadjusted Yule-Walker ('ywm'). You can use this method now by setting method='ywm'.\n",
            "  warnings.warn(\n"
          ]
        },
        {
          "output_type": "display_data",
          "data": {
            "text/plain": [
              "<Figure size 864x576 with 2 Axes>"
            ],
            "image/png": "[encoded data removed]"
          },
          "metadata": {
            "needs_background": "light"
          }
        }
      ],
      "source": [
        "from statsmodels.graphics.tsaplots import plot_acf,plot_pacf\n",
        "import statsmodels.api as sm\n",
        "\n",
        "fig = plt.figure(figsize=(12,8))\n",
        "\n",
        "ax1 = fig.add_subplot(211)\n",
        "fig = sm.graphics.tsa.plot_acf(data['new_deaths'].dropna(),lags=50,ax=ax1)\n",
        "\n",
        "ax2 = fig.add_subplot(212)\n",
        "fig = sm.graphics.tsa.plot_pacf(data['new_deaths'].dropna(),lags=50,ax=ax2)\n"
      ]
    },
    {
      "cell_type": "code",
      "execution_count": 35,
      "metadata": {
        "id": "6fMNvFZiXVbs",
        "colab": {
          "base_uri": "https://localhost:8080/"
        },
        "outputId": "c47643f7-41a0-496a-985c-7f3044241faa"
      },
      "outputs": [
        {
          "output_type": "stream",
          "name": "stdout",
          "text": [
            "                               SARIMAX Results                                \n",
            "==============================================================================\n",
            "Dep. Variable:             new_deaths   No. Observations:                  137\n",
            "Model:                 ARIMA(1, 1, 0)   Log Likelihood               -1051.418\n",
            "Date:                Thu, 02 Mar 2023   AIC                           2106.835\n",
            "Time:                        20:35:56   BIC                           2112.661\n",
            "Sample:                             0   HQIC                          2109.203\n",
            "                                - 137                                         \n",
            "Covariance Type:                  opg                                         \n",
            "==============================================================================\n",
            "                 coef    std err          z      P>|z|      [0.025      0.975]\n",
            "------------------------------------------------------------------------------\n",
            "ar.L1         -0.3609      0.030    -12.046      0.000      -0.420      -0.302\n",
            "sigma2      3.058e+05   6921.383     44.183      0.000    2.92e+05    3.19e+05\n",
            "===================================================================================\n",
            "Ljung-Box (L1) (Q):                   1.14   Jarque-Bera (JB):             18526.76\n",
            "Prob(Q):                              0.29   Prob(JB):                         0.00\n",
            "Heteroskedasticity (H):            1606.91   Skew:                             5.57\n",
            "Prob(H) (two-sided):                  0.00   Kurtosis:                        59.08\n",
            "===================================================================================\n",
            "\n",
            "Warnings:\n",
            "[1] Covariance matrix calculated using the outer product of gradients (complex-step).\n"
          ]
        },
        {
          "output_type": "stream",
          "name": "stderr",
          "text": [
            "/usr/local/lib/python3.8/dist-packages/statsmodels/tsa/base/tsa_model.py:471: ValueWarning: An unsupported index was provided and will be ignored when e.g. forecasting.\n",
            "  self._init_dates(dates, freq)\n",
            "/usr/local/lib/python3.8/dist-packages/statsmodels/tsa/base/tsa_model.py:471: ValueWarning: An unsupported index was provided and will be ignored when e.g. forecasting.\n",
            "  self._init_dates(dates, freq)\n",
            "/usr/local/lib/python3.8/dist-packages/statsmodels/tsa/base/tsa_model.py:471: ValueWarning: An unsupported index was provided and will be ignored when e.g. forecasting.\n",
            "  self._init_dates(dates, freq)\n"
          ]
        }
      ],
      "source": [
        "# 1,1,0 ARIMA Model\n",
        "model = sm.tsa.arima.ARIMA(data.new_deaths, order=(1,1,0))\n",
        "model_fit = model.fit()\n",
        "print(model_fit.summary())"
      ]
    },
    {
      "cell_type": "code",
      "execution_count": 39,
      "metadata": {
        "id": "T_kUB7QTeflV",
        "colab": {
          "base_uri": "https://localhost:8080/"
        },
        "outputId": "ba4cd450-8730-4bdc-e539-dab3c68260f2"
      },
      "outputs": [
        {
          "output_type": "stream",
          "name": "stderr",
          "text": [
            "/usr/local/lib/python3.8/dist-packages/statsmodels/tsa/base/tsa_model.py:471: ValueWarning: An unsupported index was provided and will be ignored when e.g. forecasting.\n",
            "  self._init_dates(dates, freq)\n",
            "/usr/local/lib/python3.8/dist-packages/statsmodels/tsa/base/tsa_model.py:471: ValueWarning: An unsupported index was provided and will be ignored when e.g. forecasting.\n",
            "  self._init_dates(dates, freq)\n",
            "/usr/local/lib/python3.8/dist-packages/statsmodels/tsa/base/tsa_model.py:471: ValueWarning: An unsupported index was provided and will be ignored when e.g. forecasting.\n",
            "  self._init_dates(dates, freq)\n"
          ]
        },
        {
          "output_type": "stream",
          "name": "stdout",
          "text": [
            "                               SARIMAX Results                                \n",
            "==============================================================================\n",
            "Dep. Variable:             new_deaths   No. Observations:                  137\n",
            "Model:                 ARIMA(5, 1, 0)   Log Likelihood               -1046.078\n",
            "Date:                Thu, 02 Mar 2023   AIC                           2104.157\n",
            "Time:                        20:41:06   BIC                           2121.633\n",
            "Sample:                             0   HQIC                          2111.259\n",
            "                                - 137                                         \n",
            "Covariance Type:                  opg                                         \n",
            "==============================================================================\n",
            "                 coef    std err          z      P>|z|      [0.025      0.975]\n",
            "------------------------------------------------------------------------------\n",
            "ar.L1         -0.4359      0.046     -9.484      0.000      -0.526      -0.346\n",
            "ar.L2         -0.2243      0.059     -3.826      0.000      -0.339      -0.109\n",
            "ar.L3          0.0131      0.100      0.130      0.896      -0.183       0.210\n",
            "ar.L4         -0.1071      0.104     -1.030      0.303      -0.311       0.097\n",
            "ar.L5         -0.0946      0.070     -1.343      0.179      -0.233       0.043\n",
            "sigma2      2.908e+05   1.05e+04     27.589      0.000     2.7e+05    3.11e+05\n",
            "===================================================================================\n",
            "Ljung-Box (L1) (Q):                   0.00   Jarque-Bera (JB):             22184.17\n",
            "Prob(Q):                              0.95   Prob(JB):                         0.00\n",
            "Heteroskedasticity (H):            1361.78   Skew:                             6.40\n",
            "Prob(H) (two-sided):                  0.00   Kurtosis:                        64.24\n",
            "===================================================================================\n",
            "\n",
            "Warnings:\n",
            "[1] Covariance matrix calculated using the outer product of gradients (complex-step).\n"
          ]
        }
      ],
      "source": [
        "# 1,1,0 ARIMA Model\n",
        "model = sm.tsa.arima.ARIMA(data.new_deaths, order=(5,1,0))\n",
        "model_fit = model.fit()\n",
        "print(model_fit.summary())"
      ]
    },
    {
      "cell_type": "code",
      "execution_count": 41,
      "metadata": {
        "id": "e9-T-1AtXVZA",
        "colab": {
          "base_uri": "https://localhost:8080/",
          "height": 282
        },
        "outputId": "23a45d0e-1e08-400b-8d81-0b3c4cde446c"
      },
      "outputs": [
        {
          "output_type": "stream",
          "name": "stdout",
          "text": [
            "Test MAE: 130.958\n"
          ]
        },
        {
          "output_type": "display_data",
          "data": {
            "text/plain": [
              "<Figure size 432x288 with 1 Axes>"
            ],
            "image/png": "[encoded data removed]"
          },
          "metadata": {
            "needs_background": "light"
          }
        }
      ],
      "source": [
        "X = data['new_deaths'].values\n",
        "size = int(len(X) * 0.90)\n",
        "train, test = X[0:size], X[size:len(X)]\n",
        "traindf, testdf = data[0:size], data[size:len(X)]\n",
        "history = [x for x in train]\n",
        "predictions = list()\n",
        "# walk-forward validation\n",
        "for t in range(len(test)):\n",
        "\tmodel = ARIMA(history, order=(1,1,0))\n",
        "\tmodel_fit = model.fit()\n",
        "\toutput = model_fit.forecast()\n",
        "\tyhat = output[0]\n",
        "\tpredictions.append(yhat)\n",
        "\tobs = test[t]\n",
        "\thistory.append(obs)\n",
        "\t# print('predicted=%f, expected=%f' % (yhat, obs))\n",
        "# evaluate forecasts\n",
        "mae = mean_absolute_error(test, predictions)\n",
        "print('Test MAE: %.3f' % mae)\n",
        "# plot forecasts against actual outcomes\n",
        "plt.plot(test)\n",
        "plt.plot(predictions, color='red')\n",
        "plt.show()"
      ]
    },
    {
      "cell_type": "code",
      "execution_count": 42,
      "metadata": {
        "id": "cPwLwTSTPXp2"
      },
      "outputs": [],
      "source": [
        "mae5day = mean_absolute_error(testdf['new_deaths'], testdf['moving_avg_5day'])\n",
        "mae10day = mean_absolute_error(testdf['new_deaths'], testdf['moving_avg_10day'])\n",
        "mae15day = mean_absolute_error(testdf['new_deaths'], testdf['moving_avg_15day'])\n",
        "mae20day = mean_absolute_error(testdf['new_deaths'], testdf['moving_avg_20day'])"
      ]
    },
    {
      "cell_type": "code",
      "execution_count": 43,
      "metadata": {
        "id": "8H_DPJELOuOl",
        "colab": {
          "base_uri": "https://localhost:8080/"
        },
        "outputId": "a8c4e96e-dd80-48ae-e351-f49ea0b3ddbb"
      },
      "outputs": [
        {
          "output_type": "stream",
          "name": "stdout",
          "text": [
            "Mean absolute error from 5day moving average prediction: 110.38571428571426\n",
            "Mean absolute error from 10day moving average prediction: 297.4928571428572\n",
            "Mean absolute error from 15day moving average prediction: 670.4666666666666\n",
            "Mean absolute error from 20day moving average prediction: 991.2785714285712\n"
          ]
        }
      ],
      "source": [
        "print(f'Mean absolute error from 5day moving average prediction: {mae5day}')\n",
        "print(f'Mean absolute error from 10day moving average prediction: {mae10day}')\n",
        "print(f'Mean absolute error from 15day moving average prediction: {mae15day}')\n",
        "print(f'Mean absolute error from 20day moving average prediction: {mae20day}')"
      ]
    }
  ],
  "metadata": {
    "colab": {
      "provenance": []
    },
    "kernelspec": {
      "display_name": "Python 3",
      "name": "python3"
    },
    "language_info": {
      "name": "python"
    }
  },
  "nbformat": 4,
  "nbformat_minor": 0
}